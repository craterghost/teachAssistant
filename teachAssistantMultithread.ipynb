{
 "cells": [
  {
   "cell_type": "code",
   "execution_count": null,
   "metadata": {},
   "outputs": [],
   "source": [
    "import pdftotext\n",
    "import openai\n",
    "import re\n",
    "from tqdm import tqdm\n",
    "from difflib import SequenceMatcher\n",
    "import concurrent.futures"
   ]
  },
  {
   "cell_type": "code",
   "execution_count": null,
   "metadata": {},
   "outputs": [],
   "source": [
    "# Set up the OpenAI API client\n",
    "openai.api_key = \"Your_API_Key\""
   ]
  },
  {
   "cell_type": "code",
   "execution_count": null,
   "metadata": {},
   "outputs": [],
   "source": [
    "# How similar questions can be\n",
    "similarity = 0.8\n",
    "\n",
    "# How many chunks of data should be used for that test (-1 for no limit => whole documents)\n",
    "num_chunks = 6\n",
    "\n",
    "# Number of questions per chunk\n",
    "num_questions = 2\n",
    "\n",
    "# Number of considered signs per question\n",
    "chunk_size = 4000\n"
   ]
  },
  {
   "cell_type": "code",
   "execution_count": null,
   "metadata": {},
   "outputs": [],
   "source": [
    "# Load your PDF\n",
    "with open(\"regelung.pdf\", \"rb\") as f:\n",
    "    pdf = pdftotext.PDF(f)\n",
    "\n",
    "# If it's password-protected\n",
    "#with open(\"secure.pdf\", \"rb\") as f:\n",
    "#    pdf = pdftotext.PDF(f, \"secret\")\n",
    "\n",
    "# How many pages?\n",
    "#print(len(pdf))\n",
    "\n",
    "# Iterate over all the pages\n",
    "#for page in pdf:\n",
    "#    print(page)\n",
    "\n",
    "# Read some individual pages\n",
    "#print(pdf[0])\n",
    "#print(pdf[1])\n",
    "\n",
    "# Read all the text into one string\n",
    "#print(\"\\n\\n\".join(pdf))\n",
    "\n",
    "# Save all text to a variable\n",
    "text_long = \"\\n\\n\".join(pdf)"
   ]
  },
  {
   "cell_type": "code",
   "execution_count": null,
   "metadata": {},
   "outputs": [],
   "source": [
    "# Cut text into 2000 character chunks and put the chunks into a list.\n",
    "chunk_list = [text_long[i:i+chunk_size] for i in range(0, len(text_long), chunk_size)]\n",
    "\n",
    "# Use only the first x elements of the chunk list\n",
    "chunk_list = chunk_list[:num_chunks]\n",
    "\n",
    "# Print the list\n",
    "#print(chunk_list)"
   ]
  },
  {
   "cell_type": "code",
   "execution_count": null,
   "metadata": {},
   "outputs": [],
   "source": [
    "def generate_flashcards(chunk, existing_questions):\n",
    "    # Clean the input chunk\n",
    "    clean_chunk = re.sub(r\"\\s+\", \" \", chunk.strip())\n",
    "\n",
    "    # Generate a question using the OpenAI API\n",
    "    prompt = f\"Generate a specific technical postgrad level german question based on the following text:\\n\\n{clean_chunk}\\n\\n\"\n",
    "    question = openai.Completion.create(\n",
    "        engine=\"text-davinci-003\",\n",
    "        prompt=prompt,\n",
    "        temperature=0.5,\n",
    "        max_tokens=400,\n",
    "        n=1,\n",
    "        stop=None,\n",
    "    ).choices[0].text.strip()\n",
    "\n",
    "    # Check if the question is too similar to existing questions\n",
    "    if any(SequenceMatcher(None, question, existing_question).ratio() > similarity for existing_question in existing_questions):\n",
    "        # If the question is too similar, generate a new question\n",
    "        return None\n",
    "    \n",
    "\n",
    "    # Generate an answer using the OpenAI API\n",
    "    answer = f\"\\n\\n{question}\\n\\n Antworte einfach, technisch und spezifisch.\"\n",
    "    answer = openai.Completion.create(\n",
    "        engine=\"text-davinci-003\",\n",
    "        prompt=answer,\n",
    "        temperature=0.8,\n",
    "        max_tokens=3500,\n",
    "        n=1,\n",
    "        stop=None,\n",
    "    ).choices[0].text.strip()\n",
    "\n",
    "    return {\"question\": question, \"answer\": answer}"
   ]
  },
  {
   "cell_type": "code",
   "execution_count": null,
   "metadata": {},
   "outputs": [],
   "source": [
    "# Create an empty list to store the question answer pairs\n",
    "question_answer_list = []\n",
    "\n",
    "# Create a set to store existing questions\n",
    "existing_questions = set()\n",
    "\n",
    "# Create a progressbar\n",
    "progress_bar = tqdm(total=len(chunk_list))\n",
    "\n",
    "# Define a function to generate flashcards for a single chunk\n",
    "def generate_flashcards_for_chunk(chunk):\n",
    "    # Generate 5 flashcards\n",
    "    num_flashcards = num_questions\n",
    "    flashcards_generated = 0\n",
    "    while flashcards_generated < num_flashcards:\n",
    "        # Generate a flashcard for the chunk\n",
    "        flashcard = generate_flashcards(chunk, existing_questions)\n",
    "        # If the flashcard is not too similar to existing questions\n",
    "        if flashcard:\n",
    "            # Add the flashcard to the question answer list\n",
    "            question_answer_list.append(flashcard)\n",
    "            # Add the question to existing questions\n",
    "            existing_questions.add(flashcard[\"question\"])\n",
    "            # Increment the number of flashcards generated\n",
    "            flashcards_generated += 1\n",
    "        # Update the progressbar\n",
    "        progress_bar.update(1)"
   ]
  },
  {
   "cell_type": "code",
   "execution_count": 10,
   "metadata": {},
   "outputs": [
    {
     "name": "stderr",
     "output_type": "stream",
     "text": [
      "  0%|          | 0/7 [00:01<?, ?it/s]\n"
     ]
    }
   ],
   "source": [
    "# Use concurrent futures to generate flashcards for all chunks in parallel\n",
    "with concurrent.futures.ThreadPoolExecutor() as executor:\n",
    "    # For each chunk, submit a task to generate flashcards for that chunk\n",
    "    futures = [executor.submit(generate_flashcards_for_chunk, chunk) for chunk in chunk_list]\n",
    "    \n",
    "\n",
    "    # Wait for all tasks to complete\n",
    "    concurrent.futures.wait(futures)\n",
    "\n",
    "# Close the progressbar\n",
    "progress_bar.close()\n",
    "\n",
    "# Print the generated question answer pairs\n",
    "for qa_pair in question_answer_list:\n",
    "    print(qa_pair)\n"
   ]
  }
 ],
 "metadata": {
  "kernelspec": {
   "display_name": "Python 3",
   "language": "python",
   "name": "python3"
  },
  "language_info": {
   "codemirror_mode": {
    "name": "ipython",
    "version": 3
   },
   "file_extension": ".py",
   "mimetype": "text/x-python",
   "name": "python",
   "nbconvert_exporter": "python",
   "pygments_lexer": "ipython3",
   "version": "3.9.16"
  },
  "orig_nbformat": 4,
  "vscode": {
   "interpreter": {
    "hash": "b7c04a2fc6e2325293051ecb94c12b245f46a0f8a35003fb09533e5a4540792d"
   }
  }
 },
 "nbformat": 4,
 "nbformat_minor": 2
}
